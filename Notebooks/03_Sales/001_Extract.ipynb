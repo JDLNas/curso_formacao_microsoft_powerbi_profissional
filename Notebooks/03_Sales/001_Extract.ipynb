{
 "cells": [
  {
   "cell_type": "code",
   "execution_count": 0,
   "metadata": {
    "application/vnd.databricks.v1+cell": {
     "cellMetadata": {
      "byteLimit": 2048000,
      "rowLimit": 10000
     },
     "inputWidgets": {},
     "nuid": "1d636926-d572-4ba3-b7de-d17655f4a82d",
     "showTitle": false,
     "tableResultSettingsMap": {},
     "title": ""
    }
   },
   "outputs": [],
   "source": [
    "import os\n",
    "import requests\n",
    "from pyspark.sql import functions as F"
   ]
  },
  {
   "cell_type": "code",
   "execution_count": 0,
   "metadata": {
    "application/vnd.databricks.v1+cell": {
     "cellMetadata": {
      "byteLimit": 2048000,
      "rowLimit": 10000
     },
     "inputWidgets": {},
     "nuid": "d232f30e-3d41-4adc-9aa5-d965f10d3aa8",
     "showTitle": false,
     "tableResultSettingsMap": {},
     "title": ""
    }
   },
   "outputs": [],
   "source": [
    "# Diretório de destino\n",
    "dir_path = \"/Volumes/fomacao_microsoft_power_bi_profisional/bronze/landing/processar/\"\n",
    "os.makedirs(dir_path, exist_ok=True)\n",
    "\n",
    "# URLs e nomes dos arquivos\n",
    "files = {\n",
    "    \"CA Sales.csv\": \"https://raw.githubusercontent.com/JDLNas/curso_formacao_microsoft_powerbi_profissional/refs/heads/main/Fontes/Merge1/Pasta1/CA%20Sales.csv\",\n",
    "    \"DE Sales.csv\": \"https://raw.githubusercontent.com/JDLNas/curso_formacao_microsoft_powerbi_profissional/refs/heads/main/Fontes/Merge1/Pasta1/DE%20Sales.csv\",\n",
    "    \"FR Sales.csv\": \"https://raw.githubusercontent.com/JDLNas/curso_formacao_microsoft_powerbi_profissional/refs/heads/main/Fontes/Merge1/Pasta1/FR%20Sales.csv\",\n",
    "    \"MX Sales.csv\": \"https://raw.githubusercontent.com/JDLNas/curso_formacao_microsoft_powerbi_profissional/refs/heads/main/Fontes/Merge1/Pasta1/MX%20Sales.csv\"\n",
    "}\n",
    "\n",
    "# Baixar os arquivos\n",
    "for file_name, url in files.items():\n",
    "    file_path = os.path.join(dir_path, file_name)\n",
    "    with open(file_path, \"wb\") as f:\n",
    "        f.write(requests.get(url).content)\n",
    "\n",
    "# Move cada arquivo baixado da pasta 'processar' para a pasta 'processados'\n",
    "for file_name in files.keys():\n",
    "    src_path = f\"/Volumes/fomacao_microsoft_power_bi_profisional/bronze/landing/processar/{file_name}\"  # Caminho de origem\n",
    "    dst_path = f\"/Volumes/fomacao_microsoft_power_bi_profisional/bronze/landing/processados/{file_name}\"  # Caminho de destino\n",
    "    dbutils.fs.mv(src_path, dst_path)  # Move o arquivo usando Databricks Utilities"
   ]
  },
  {
   "cell_type": "code",
   "execution_count": 0,
   "metadata": {
    "application/vnd.databricks.v1+cell": {
     "cellMetadata": {
      "byteLimit": 2048000,
      "rowLimit": 10000
     },
     "inputWidgets": {},
     "nuid": "e0ff869d-ef9c-47dc-a456-083060b2de22",
     "showTitle": false,
     "tableResultSettingsMap": {},
     "title": ""
    }
   },
   "outputs": [],
   "source": [
    "# Caminhos dos arquivos CSV de vendas para cada país, utilizados como origem dos dados\n",
    "origem_path_CA = \"/Volumes/fomacao_microsoft_power_bi_profisional/bronze/landing/processados/CA Sales.csv\"  # Canadá\n",
    "origem_path_DE = \"/Volumes/fomacao_microsoft_power_bi_profisional/bronze/landing/processados/DE Sales.csv\"  # Alemanha\n",
    "origem_path_FR = \"/Volumes/fomacao_microsoft_power_bi_profisional/bronze/landing/processados/FR Sales.csv\"  # França\n",
    "origem_path_MX = \"/Volumes/fomacao_microsoft_power_bi_profisional/bronze/landing/processados/MX Sales.csv\"  # México\n",
    "\n",
    "# Carrega o arquivo CSV de vendas do Canadá, aplicando opções de leitura e enriquecendo com metadados\n",
    "df_raw_CA = (spark.read\n",
    "          .option('header', 'true')      # Considera a primeira linha como cabeçalho\n",
    "          .option('enconding', 'UTF-8')  # Define a codificação dos caracteres\n",
    "          .option('sep', ',')            # Define o separador de colunas\n",
    "          .option('inferSchema', 'true') # Infere automaticamente o tipo das colunas\n",
    "          .option('multiline', 'true')   # Permite linhas com múltiplas quebras\n",
    "          .option('mode', 'PERMISSIVE')  # Permite leitura mesmo com erros nos dados\n",
    "          .csv(origem_path_CA)           # Caminho do arquivo fonte\n",
    "          .withColumn('_ingest_ts_utc', F.current_timestamp())             # Timestamp de ingestão\n",
    "          .withColumn('_ingest_date', F.to_date(F.col('_ingest_ts_utc')))  # Data de ingestão\n",
    "          .withColumn('_source_path', F.col('_metadata.file_path'))        # Caminho do arquivo fonte\n",
    "          .withColumn('_source_file', F.regexp_extract(F.col('_source_path'), r'([^/]+)$', 1))  # Nome do arquivo fonte\n",
    "          .withColumnRenamed('Total Geral', 'Total_Geral'))  # Renomeia coluna para padrão sem espaço\n",
    "\n",
    "# Carrega o arquivo CSV de vendas da Alemanha, aplicando opções de leitura e enriquecendo com metadados\n",
    "df_raw_DE = (spark.read\n",
    "          .option('header', 'true')\n",
    "          .option('enconding', 'UTF-8')\n",
    "          .option('sep', ',')\n",
    "          .option('inferSchema', 'true')\n",
    "          .option('multiline', 'true')\n",
    "          .option('mode', 'PERMISSIVE')\n",
    "          .csv(origem_path_DE)\n",
    "          .withColumn('_ingest_ts_utc', F.current_timestamp())\n",
    "          .withColumn('_ingest_date', F.to_date(F.col('_ingest_ts_utc')))\n",
    "          .withColumn('_source_path', F.col('_metadata.file_path'))\n",
    "          .withColumn('_source_file', F.regexp_extract(F.col('_source_path'), r'([^/]+)$', 1))\n",
    "          .withColumnRenamed('Total Geral', 'Total_Geral'))\n",
    "\n",
    "# Carrega o arquivo CSV de vendas da França, aplicando opções de leitura e enriquecendo com metadados\n",
    "df_raw_FR = (spark.read\n",
    "          .option('header', 'true')\n",
    "          .option('enconding', 'UTF-8')\n",
    "          .option('sep', ',')\n",
    "          .option('inferSchema', 'true')\n",
    "          .option('multiline', 'true')\n",
    "          .option('mode', 'PERMISSIVE')\n",
    "          .csv(origem_path_FR)\n",
    "          .withColumn('_ingest_ts_utc', F.current_timestamp())\n",
    "          .withColumn('_ingest_date', F.to_date(F.col('_ingest_ts_utc')))\n",
    "          .withColumn('_source_path', F.col('_metadata.file_path'))\n",
    "          .withColumn('_source_file', F.regexp_extract(F.col('_source_path'), r'([^/]+)$', 1))\n",
    "          .withColumnRenamed('Total Geral', 'Total_Geral'))\n",
    "\n",
    "# Carrega o arquivo CSV de vendas do México, aplicando opções de leitura e enriquecendo com metadados\n",
    "df_raw_MX = (spark.read\n",
    "          .option('header', 'true')\n",
    "          .option('enconding', 'UTF-8')\n",
    "          .option('sep', ',')\n",
    "          .option('inferSchema', 'true')\n",
    "          .option('multiline', 'true')\n",
    "          .option('mode', 'PERMISSIVE')\n",
    "          .csv(origem_path_MX)\n",
    "          .withColumn('_ingest_ts_utc', F.current_timestamp())\n",
    "          .withColumn('_ingest_date', F.to_date(F.col('_ingest_ts_utc')))\n",
    "          .withColumn('_source_path', F.col('_metadata.file_path'))\n",
    "          .withColumn('_source_file', F.regexp_extract(F.col('_source_path'), r'([^/]+)$', 1))\n",
    "          .withColumnRenamed('Total Geral', 'Total_Geral'))"
   ]
  },
  {
   "cell_type": "code",
   "execution_count": 0,
   "metadata": {
    "application/vnd.databricks.v1+cell": {
     "cellMetadata": {
      "byteLimit": 2048000,
      "rowLimit": 10000
     },
     "inputWidgets": {},
     "nuid": "d471040b-8d2c-4725-996a-bc4b017fbbd9",
     "showTitle": false,
     "tableResultSettingsMap": {},
     "title": ""
    }
   },
   "outputs": [],
   "source": [
    "# Define os nomes das tabelas de destino para cada país\n",
    "tbl_CA_Sales = \"CA_Sales\"\n",
    "tbl_DE_Sales = \"DE_Sales\"\n",
    "tbl_FR_Sales = \"FR_Sales\"\n",
    "tbl_MX_Sales = \"MX_Sales\"\n",
    "\n",
    "# Define os caminhos completos das tabelas Delta no esquema bronze\n",
    "destino_path_CA_Sales = f'fomacao_microsoft_power_bi_profisional.bronze.{tbl_CA_Sales}'\n",
    "destino_path_DE_Sales = f'fomacao_microsoft_power_bi_profisional.bronze.{tbl_DE_Sales}'\n",
    "destino_path_FR_Sales = f'fomacao_microsoft_power_bi_profisional.bronze.{tbl_FR_Sales}'\n",
    "destino_path_MX_Sales = f'fomacao_microsoft_power_bi_profisional.bronze.{tbl_MX_Sales}'\n",
    "\n",
    "# Salva o DataFrame do Canadá como tabela Delta particionada por data de ingestão\n",
    "df_bronze_CA_Sales = (df_raw_CA.write\n",
    "                                  .format('delta')\n",
    "                                  .mode('overwrite')\n",
    "                                  .option('overwriteSchema', 'true')\n",
    "                                  .partitionBy('_ingest_date')\n",
    "                                  .saveAsTable(destino_path_CA_Sales))\n",
    "\n",
    "# Salva o DataFrame da Alemanha como tabela Delta particionada por data de ingestão\n",
    "df_bronze_DE_Sales = (df_raw_DE.write\n",
    "                                  .format('delta')\n",
    "                                  .mode('overwrite')\n",
    "                                  .option('overwriteSchema', 'true')\n",
    "                                  .partitionBy('_ingest_date')\n",
    "                                  .saveAsTable(destino_path_DE_Sales))\n",
    "\n",
    "# Salva o DataFrame da França como tabela Delta particionada por data de ingestão\n",
    "df_bronze_FR_Sales = (df_raw_FR.write\n",
    "                                  .format('delta')\n",
    "                                  .mode('overwrite')\n",
    "                                  .option('overwriteSchema', 'true')\n",
    "                                  .partitionBy('_ingest_date')\n",
    "                                  .saveAsTable(destino_path_FR_Sales))\n",
    "\n",
    "# Salva o DataFrame do México como tabela Delta particionada por data de ingestão\n",
    "df_bronze_MX_Sales = (df_raw_MX.write\n",
    "                                  .format('delta')\n",
    "                                  .mode('overwrite')\n",
    "                                  .option('overwriteSchema', 'true')\n",
    "                                  .partitionBy('_ingest_date')\n",
    "                                  .saveAsTable(destino_path_MX_Sales))\n",
    "\n",
    "# Exibe a contagem de registros para cada tabela Delta de vendas por país\n",
    "print(f'Contagem de registros: {spark.table(destino_path_CA_Sales).count()}')  # Canadá\n",
    "print(f'Contagem de registros: {spark.table(destino_path_DE_Sales).count()}')  # Alemanha\n",
    "print(f'Contagem de registros: {spark.table(destino_path_FR_Sales).count()}')  # França\n",
    "print(f'Contagem de registros: {spark.table(destino_path_MX_Sales).count()}')  # México"
   ]
  }
 ],
 "metadata": {
  "application/vnd.databricks.v1+notebook": {
   "computePreferences": null,
   "dashboards": [],
   "environmentMetadata": {
    "base_environment": "",
    "environment_version": "3"
   },
   "inputWidgetPreferences": null,
   "language": "python",
   "notebookMetadata": {
    "pythonIndentUnit": 4
   },
   "notebookName": "001_Extract",
   "widgets": {}
  },
  "language_info": {
   "name": "python"
  }
 },
 "nbformat": 4,
 "nbformat_minor": 0
}
