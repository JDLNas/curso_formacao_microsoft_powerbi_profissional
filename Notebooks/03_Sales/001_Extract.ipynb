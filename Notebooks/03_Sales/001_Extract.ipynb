{
 "cells": [
  {
   "cell_type": "code",
   "execution_count": 0,
   "metadata": {
    "application/vnd.databricks.v1+cell": {
     "cellMetadata": {
      "byteLimit": 2048000,
      "rowLimit": 10000
     },
     "inputWidgets": {},
     "nuid": "d232f30e-3d41-4adc-9aa5-d965f10d3aa8",
     "showTitle": false,
     "tableResultSettingsMap": {},
     "title": ""
    }
   },
   "outputs": [],
   "source": [
    "import os\n",
    "import requests\n",
    "\n",
    "# Diretório de destino\n",
    "dir_path = \"/Volumes/fomacao_microsoft_power_bi_profisional/bronze/landing/processar/\"\n",
    "os.makedirs(dir_path, exist_ok=True)\n",
    "\n",
    "# URLs e nomes dos arquivos\n",
    "files = {\n",
    "    \"CA Sales.csv\": \"https://raw.githubusercontent.com/JDLNas/formacao-microsoft-power-bi-profissional/refs/heads/main/Fonte/Merge%201/Pasta1/CA%20Sales.csv\",\n",
    "    \"DE Sales.csv\": \"https://raw.githubusercontent.com/JDLNas/formacao-microsoft-power-bi-profissional/refs/heads/main/Fonte/Merge%201/Pasta1/DE%20Sales.csv\",\n",
    "    \"FR Sales.csv\": \"https://raw.githubusercontent.com/JDLNas/formacao-microsoft-power-bi-profissional/refs/heads/main/Fonte/Merge%201/Pasta1/FR%20Sales.csv\",\n",
    "    \"MX Sales.csv\": \"https://raw.githubusercontent.com/JDLNas/formacao-microsoft-power-bi-profissional/refs/heads/main/Fonte/Merge%201/Pasta1/MX%20Sales.csv\"\n",
    "}\n",
    "\n",
    "# Baixar os arquivos\n",
    "for file_name, url in files.items():\n",
    "    file_path = os.path.join(dir_path, file_name)\n",
    "    with open(file_path, \"wb\") as f:\n",
    "        f.write(requests.get(url).content)\n",
    "\n",
    "# Move cada arquivo baixado da pasta 'processar' para a pasta 'processados'\n",
    "for file_name in files.keys():\n",
    "    src_path = f\"/Volumes/fomacao_microsoft_power_bi_profisional/bronze/landing/processar/{file_name}\"  # Caminho de origem\n",
    "    dst_path = f\"/Volumes/fomacao_microsoft_power_bi_profisional/bronze/landing/processados/{file_name}\"  # Caminho de destino\n",
    "    dbutils.fs.mv(src_path, dst_path)  # Move o arquivo usando Databricks Utilities"
   ]
  }
 ],
 "metadata": {
  "application/vnd.databricks.v1+notebook": {
   "computePreferences": null,
   "dashboards": [],
   "environmentMetadata": {
    "base_environment": "",
    "environment_version": "3"
   },
   "inputWidgetPreferences": null,
   "language": "python",
   "notebookMetadata": {
    "pythonIndentUnit": 4
   },
   "notebookName": "001_Extract",
   "widgets": {}
  },
  "language_info": {
   "name": "python"
  }
 },
 "nbformat": 4,
 "nbformat_minor": 0
}
