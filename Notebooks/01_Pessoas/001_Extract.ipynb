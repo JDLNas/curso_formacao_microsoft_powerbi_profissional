{
 "cells": [
  {
   "cell_type": "code",
   "execution_count": 0,
   "metadata": {
    "application/vnd.databricks.v1+cell": {
     "cellMetadata": {
      "byteLimit": 2048000,
      "rowLimit": 10000
     },
     "inputWidgets": {},
     "nuid": "db543d2a-af88-4792-aa20-89e7bd7daf8e",
     "showTitle": false,
     "tableResultSettingsMap": {},
     "title": ""
    }
   },
   "outputs": [],
   "source": [
    "import requests\n",
    "\n",
    "# Baixar o arquivo CSV\n",
    "csv_url = \"https://raw.githubusercontent.com/JDLNas/curso_formacao_microsoft_powerbi_profissional/main/Fontes/CSV/PESSOAS.csv\"\n",
    "processar_path = \"/Volumes/fomacao_microsoft_power_bi_profisional/bronze/landing/processar/PESSOAS.csv\"\n",
    "\n",
    "with open(processar_path, \"wb\") as f:\n",
    "    f.write(\n",
    "        requests.get(csv_url).content\n",
    "    )\n",
    "\n",
    "# Move o arquivo\n",
    "processados_path = \"/Volumes/fomacao_microsoft_power_bi_profisional/bronze/landing/processados/PESSOAS.csv\"\n",
    "\n",
    "import shutil\n",
    "shutil.move(\n",
    "    processar_path,\n",
    "    processados_path\n",
    ")\n",
    "\n",
    "# Ler o arquivo CSV\n",
    "df = spark.read.option(\n",
    "    \"header\", True\n",
    ").option(\n",
    "    \"inferSchema\", True\n",
    ").csv(\n",
    "    \"/Volumes/fomacao_microsoft_power_bi_profisional/bronze/landing/processados/PESSOAS.csv\"\n",
    ")"
   ]
  }
 ],
 "metadata": {
  "application/vnd.databricks.v1+notebook": {
   "computePreferences": null,
   "dashboards": [],
   "environmentMetadata": {
    "base_environment": "",
    "environment_version": "3"
   },
   "inputWidgetPreferences": null,
   "language": "python",
   "notebookMetadata": {
    "pythonIndentUnit": 4
   },
   "notebookName": "001_Extract",
   "widgets": {}
  },
  "language_info": {
   "name": "python"
  }
 },
 "nbformat": 4,
 "nbformat_minor": 0
}
