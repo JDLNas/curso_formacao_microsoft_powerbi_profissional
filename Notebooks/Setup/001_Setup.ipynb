{
 "cells": [
  {
   "cell_type": "code",
   "execution_count": 0,
   "metadata": {
    "application/vnd.databricks.v1+cell": {
     "cellMetadata": {
      "byteLimit": 2048000,
      "implicitDf": true,
      "rowLimit": 10000
     },
     "inputWidgets": {},
     "nuid": "4be24ec9-68d5-4da1-906c-86cf39b724cc",
     "showTitle": false,
     "tableResultSettingsMap": {},
     "title": ""
    }
   },
   "outputs": [],
   "source": [
    "%sql\n",
    "-- Cria o catálogo para armazenar dados da Formação Microsoft Power BI Profissional, caso não exista\n",
    "CREATE CATALOG IF NOT EXISTS `fomacao_microsoft_power_bi_profisional`\n",
    "COMMENT 'Catálogo para armazenar dados da Fomacao Microsoft Power BI Profissional';"
   ]
  },
  {
   "cell_type": "code",
   "execution_count": 0,
   "metadata": {
    "application/vnd.databricks.v1+cell": {
     "cellMetadata": {
      "byteLimit": 2048000,
      "implicitDf": true,
      "rowLimit": 10000
     },
     "inputWidgets": {},
     "nuid": "864644aa-09b5-49b2-9166-03fc353b74f6",
     "showTitle": false,
     "tableResultSettingsMap": {},
     "title": ""
    }
   },
   "outputs": [],
   "source": [
    "%sql\n",
    "-- Define o catálogo recém-criado como o catálogo ativo\n",
    "USE CATALOG `fomacao_microsoft_power_bi_profisional`;"
   ]
  },
  {
   "cell_type": "code",
   "execution_count": 0,
   "metadata": {
    "application/vnd.databricks.v1+cell": {
     "cellMetadata": {
      "byteLimit": 2048000,
      "implicitDf": true,
      "rowLimit": 10000
     },
     "inputWidgets": {},
     "nuid": "07a310fc-a8e3-4a28-b34f-9e2ba798e5ab",
     "showTitle": false,
     "tableResultSettingsMap": {},
     "title": ""
    }
   },
   "outputs": [],
   "source": [
    "%sql\n",
    "-- Cria o schema bronze para dados brutos, caso não exista\n",
    "CREATE SCHEMA IF NOT EXISTS `bronze`\n",
    "COMMENT 'Schema para dados bronze da Fomacao Microsoft Power BI Profissional';\n",
    "\n",
    "-- Cria o schema silver para dados refinados, caso não exista\n",
    "CREATE SCHEMA IF NOT EXISTS `silver`\n",
    "COMMENT 'Schema para dados silver da Fomacao Microsoft Power BI Profissional';\n",
    "\n",
    "-- Cria o schema gold para dados prontos para consumo, caso não exista\n",
    "CREATE SCHEMA IF NOT EXISTS `gold`\n",
    "COMMENT 'Schema para dados gold da Fomacao Microsoft Power BI Profissional';"
   ]
  },
  {
   "cell_type": "code",
   "execution_count": 0,
   "metadata": {
    "application/vnd.databricks.v1+cell": {
     "cellMetadata": {
      "byteLimit": 2048000,
      "implicitDf": true,
      "rowLimit": 10000
     },
     "inputWidgets": {},
     "nuid": "77fbed50-fcf0-4c17-90ad-ded23fdc4dc5",
     "showTitle": false,
     "tableResultSettingsMap": {},
     "title": ""
    }
   },
   "outputs": [],
   "source": [
    "%sql\n",
    "-- Cria o volume landing no schema bronze para armazenamento de dados, caso não exista\n",
    "CREATE VOLUME IF NOT EXISTS `fomacao_microsoft_power_bi_profisional`.bronze.landing\n",
    "COMMENT 'Volume para dados da Fomacao Microsoft Power BI Profissional';"
   ]
  },
  {
   "cell_type": "code",
   "execution_count": 0,
   "metadata": {
    "application/vnd.databricks.v1+cell": {
     "cellMetadata": {
      "byteLimit": 2048000,
      "rowLimit": 10000
     },
     "inputWidgets": {},
     "nuid": "d4ca450d-02df-4058-8d2e-e4466265b232",
     "showTitle": false,
     "tableResultSettingsMap": {},
     "title": ""
    }
   },
   "outputs": [],
   "source": [
    "# Define o nome do catálogo, esquema e volume\n",
    "catalog = 'fomacao_microsoft_power_bi_profisional'\n",
    "schema = 'bronze'\n",
    "volume = 'landing'\n",
    "\n",
    "# Monta o caminho base para o volume no DBFS\n",
    "base = f'/Volumes/{catalog}/{schema}/{volume}'\n",
    "\n",
    "# Cria o diretório para arquivos a serem processados\n",
    "dbutils.fs.mkdirs(f'{base}/processar')\n",
    "\n",
    "# Cria o diretório para arquivos já processados\n",
    "dbutils.fs.mkdirs(f'{base}/processados')"
   ]
  }
 ],
 "metadata": {
  "application/vnd.databricks.v1+notebook": {
   "computePreferences": null,
   "dashboards": [],
   "environmentMetadata": {
    "base_environment": "",
    "environment_version": "3"
   },
   "inputWidgetPreferences": null,
   "language": "python",
   "notebookMetadata": {
    "mostRecentlyExecutedCommandWithImplicitDF": {
     "commandId": 8839073642998359,
     "dataframes": [
      "_sqldf"
     ]
    },
    "pythonIndentUnit": 4
   },
   "notebookName": "001_Setup",
   "widgets": {}
  },
  "language_info": {
   "name": "python"
  }
 },
 "nbformat": 4,
 "nbformat_minor": 0
}
