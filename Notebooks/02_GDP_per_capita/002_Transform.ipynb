{
 "cells": [
  {
   "cell_type": "code",
   "execution_count": 0,
   "metadata": {
    "application/vnd.databricks.v1+cell": {
     "cellMetadata": {
      "byteLimit": 2048000,
      "rowLimit": 10000
     },
     "inputWidgets": {},
     "nuid": "86ff47fc-3dd0-4c93-92f8-80a8fd84f777",
     "showTitle": false,
     "tableResultSettingsMap": {},
     "title": ""
    }
   },
   "outputs": [],
   "source": [
    "# Importa o módulo 'functions' da biblioteca 'pyspark.sql' como 'F', \n",
    "# permitindo o uso de funções SQL no contexto do Spark DataFrame.\n",
    "from pyspark.sql import functions as F"
   ]
  },
  {
   "cell_type": "code",
   "execution_count": 0,
   "metadata": {
    "application/vnd.databricks.v1+cell": {
     "cellMetadata": {
      "byteLimit": 2048000,
      "rowLimit": 10000
     },
     "inputWidgets": {},
     "nuid": "c0aa5a72-3f33-489d-8af8-cb5b6f142444",
     "showTitle": false,
     "tableResultSettingsMap": {},
     "title": ""
    }
   },
   "outputs": [],
   "source": [
    "# Define o fuso horário da sessão Spark para 'America/Sao_Paulo'\n",
    "spark.conf.set(\"spark.sql.session.timeZone\", \"America/Sao_Paulo\")"
   ]
  },
  {
   "cell_type": "code",
   "execution_count": 0,
   "metadata": {
    "application/vnd.databricks.v1+cell": {
     "cellMetadata": {
      "byteLimit": 2048000,
      "rowLimit": 10000
     },
     "inputWidgets": {},
     "nuid": "eaeb5f20-c2c7-4d87-933d-d77a01c9711c",
     "showTitle": false,
     "tableResultSettingsMap": {},
     "title": ""
    }
   },
   "outputs": [],
   "source": [
    "# Caminhos dos arquivos CSV de vendas para cada país, utilizados como origem dos dados\n",
    "origem_path_CA = \"fomacao_microsoft_power_bi_profisional.bronze.ca_sales\"  # Canadá\n",
    "origem_path_DE = \"fomacao_microsoft_power_bi_profisional.bronze.de_sales\"  # Alemanha\n",
    "origem_path_FR = \"fomacao_microsoft_power_bi_profisional.bronze.fr_sales\"  # França\n",
    "origem_path_MX = \"fomacao_microsoft_power_bi_profisional.bronze.mx_sales\"  # México"
   ]
  },
  {
   "cell_type": "code",
   "execution_count": 0,
   "metadata": {
    "application/vnd.databricks.v1+cell": {
     "cellMetadata": {
      "byteLimit": 2048000,
      "rowLimit": 10000
     },
     "inputWidgets": {},
     "nuid": "29c42120-d93e-451f-9bb7-591ef97f1d36",
     "showTitle": false,
     "tableResultSettingsMap": {},
     "title": ""
    }
   },
   "outputs": [],
   "source": [
    "# Carrega os dados de vendas do Canadá, removendo colunas técnicas de ingestão\n",
    "df_silver_CA_Sales = (spark.read.table(origem_path_CA)\n",
    "                           .drop(\"_ingest_ts_utc\", \"_ingest_date\", \"_source_path\", \"_source_file\"))\n",
    "\n",
    "# Carrega os dados de vendas da Alemanha, removendo colunas técnicas de ingestão\n",
    "df_silver_DE_Sales = (spark.read.table(origem_path_DE)\n",
    "                           .drop(\"_ingest_ts_utc\", \"_ingest_date\", \"_source_path\", \"_source_file\")\n",
    "                           # Converte a coluna 'Zip' para o tipo string\n",
    "                           .withColumn(\"Zip\", F.col(\"Zip\").cast(\"string\")))\n",
    "\n",
    "# Carrega os dados de vendas da França, removendo colunas técnicas de ingestão\n",
    "df_silver_FR_Sales = (spark.read.table(origem_path_FR)\n",
    "                           .drop(\"_ingest_ts_utc\", \"_ingest_date\", \"_source_path\", \"_source_file\"))\n",
    "\n",
    "# Carrega os dados de vendas do México, removendo colunas técnicas de ingestão\n",
    "df_silver_MX_Sales = (spark.read.table(origem_path_MX)\n",
    "                           .drop(\"_ingest_ts_utc\", \"_ingest_date\", \"_source_path\", \"_source_file\")\n",
    "                           # Converte a coluna 'Zip' para o tipo string\n",
    "                           .withColumn(\"Zip\", F.col(\"Zip\").cast(\"string\"))) "
   ]
  },
  {
   "cell_type": "code",
   "execution_count": 0,
   "metadata": {
    "application/vnd.databricks.v1+cell": {
     "cellMetadata": {
      "byteLimit": 2048000,
      "rowLimit": 10000
     },
     "inputWidgets": {},
     "nuid": "6e74d4a9-efde-4995-965d-3e9dee242c69",
     "showTitle": false,
     "tableResultSettingsMap": {},
     "title": ""
    }
   },
   "outputs": [],
   "source": [
    "# Realiza a união dos dados de vendas dos quatro países (Canadá, Alemanha, França e México)\n",
    "# utilizando 'unionByName' para garantir o alinhamento das colunas por nome.\n",
    "df_sales_union = (df_silver_CA_Sales.unionByName(df_silver_DE_Sales)\n",
    "                                    .unionByName(df_silver_FR_Sales)\n",
    "                                    .unionByName(df_silver_MX_Sales))\n",
    "\n",
    "# # Exibe o DataFrame resultante da união dos dados de vendas\n",
    "# display(df_sales_union)"
   ]
  },
  {
   "cell_type": "code",
   "execution_count": 0,
   "metadata": {
    "application/vnd.databricks.v1+cell": {
     "cellMetadata": {
      "byteLimit": 2048000,
      "rowLimit": 10000
     },
     "inputWidgets": {},
     "nuid": "efed680f-4d0b-4da7-afe3-b1cd235cd499",
     "showTitle": false,
     "tableResultSettingsMap": {},
     "title": ""
    }
   },
   "outputs": [],
   "source": [
    "# Adiciona a coluna '_ingest_ts_utc' com o timestamp atual e a coluna '_ingest_date' com a data derivada do timestamp,\n",
    "# para rastrear o momento de ingestão dos dados no DataFrame unificado de vendas.\n",
    "df_sales_union = (df_sales_union.withColumn('_ingest_ts_utc', F.current_timestamp())\n",
    "                                .withColumn(\"_ingest_date\", F.to_date(F.col(\"_ingest_ts_utc\"))))"
   ]
  },
  {
   "cell_type": "code",
   "execution_count": 0,
   "metadata": {
    "application/vnd.databricks.v1+cell": {
     "cellMetadata": {
      "byteLimit": 2048000,
      "rowLimit": 10000
     },
     "inputWidgets": {},
     "nuid": "911a48fa-dd3d-4b2f-b1d8-328e1fce7bf8",
     "showTitle": false,
     "tableResultSettingsMap": {},
     "title": ""
    }
   },
   "outputs": [],
   "source": [
    "# Define o nome da tabela de destino e o caminho no esquema 'silver'\n",
    "tbl = \"Fato_Vendas\"\n",
    "destino_path = f\"fomacao_microsoft_power_bi_profisional.silver.{tbl}\"\n",
    "\n",
    "# Escreve o DataFrame unificado de vendas como uma tabela Delta, sobrescrevendo dados existentes,\n",
    "# atualizando o schema conforme necessário e particionando pela coluna '_ingest_date'\n",
    "df_silver = (df_sales_union.write\n",
    "                           .format('delta')\n",
    "                           .mode('overwrite')\n",
    "                           .option('overwriteSchema', 'true')\n",
    "                           .partitionBy('_ingest_date')\n",
    "                           .saveAsTable(destino_path))\n",
    "\n",
    "# Exibe a contagem de registros da tabela criada\n",
    "print(f'Contagem de registros: {spark.table(destino_path).count()}')"
   ]
  }
 ],
 "metadata": {
  "application/vnd.databricks.v1+notebook": {
   "computePreferences": null,
   "dashboards": [],
   "environmentMetadata": {
    "base_environment": "",
    "environment_version": "3"
   },
   "inputWidgetPreferences": null,
   "language": "python",
   "notebookMetadata": {
    "pythonIndentUnit": 4
   },
   "notebookName": "002_Transform",
   "widgets": {}
  },
  "language_info": {
   "name": "python"
  }
 },
 "nbformat": 4,
 "nbformat_minor": 0
}
